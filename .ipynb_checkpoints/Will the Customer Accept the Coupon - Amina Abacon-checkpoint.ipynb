{
 "cells": [
  {
   "cell_type": "markdown",
   "metadata": {
    "id": "CcUT6Fon_qRE"
   },
   "source": [
    "### Required Assignment 5.1: Will the Customer Accept the Coupon?\n",
    "\n",
    "**Context**\n",
    "\n",
    "Imagine driving through town and a coupon is delivered to your cell phone for a restaurant near where you are driving. Would you accept that coupon and take a short detour to the restaurant? Would you accept the coupon but use it on a subsequent trip? Would you ignore the coupon entirely? What if the coupon was for a bar instead of a restaurant? What about a coffee house? Would you accept a bar coupon with a minor passenger in the car? What about if it was just you and your partner in the car? Would weather impact the rate of acceptance? What about the time of day?\n",
    "\n",
    "Obviously, proximity to the business is a factor on whether the coupon is delivered to the driver or not, but what are the factors that determine whether a driver accepts the coupon once it is delivered to them? How would you determine whether a driver is likely to accept a coupon?\n",
    "\n",
    "**Overview**\n",
    "\n",
    "The goal of this project is to use what you know about visualizations and probability distributions to distinguish between customers who accepted a driving coupon versus those that did not.\n",
    "\n",
    "**Data**\n",
    "\n",
    "This data comes to us from the UCI Machine Learning repository and was collected via a survey on Amazon Mechanical Turk. The survey describes different driving scenarios including the destination, current time, weather, passenger, etc., and then ask the person whether he will accept the coupon if he is the driver. Answers that the user will drive there ‘right away’ or ‘later before the coupon expires’ are labeled as ‘Y = 1’ and answers ‘no, I do not want the coupon’ are labeled as ‘Y = 0’.  There are five different types of coupons -- less expensive restaurants (under `$20`), coffee houses, carry out & take away, bar, and more expensive restaurants (`$20` - `$50`)."
   ]
  },
  {
   "cell_type": "markdown",
   "metadata": {
    "id": "1wORvMBJ_qRF"
   },
   "source": [
    "**Deliverables**\n",
    "\n",
    "Your final product should be a brief report that highlights the differences between customers who did and did not accept the coupons.  To explore the data you will utilize your knowledge of plotting, statistical summaries, and visualization using Python. You will publish your findings in a public facing github repository as your first portfolio piece.\n",
    "\n",
    "\n",
    "\n"
   ]
  },
  {
   "cell_type": "markdown",
   "metadata": {
    "id": "pG6_Ym6q_qRG"
   },
   "source": [
    "### Data Description\n",
    "Keep in mind that these values mentioned below are average values.\n",
    "\n",
    "The attributes of this data set include:\n",
    "1. User attributes\n",
    "    -  Gender: male, female\n",
    "    -  Age: below 21, 21 to 25, 26 to 30, etc.\n",
    "    -  Marital Status: single, married partner, unmarried partner, or widowed\n",
    "    -  Number of children: 0, 1, or more than 1\n",
    "    -  Education: high school, bachelors degree, associates degree, or graduate degree\n",
    "    -  Occupation: architecture & engineering, business & financial, etc.\n",
    "    -  Annual income: less than \\\\$12500, \\\\$12500 - \\\\$24999, \\\\$25000 - \\\\$37499, etc.\n",
    "    -  Number of times that he/she goes to a bar: 0, less than 1, 1 to 3, 4 to 8 or greater than 8\n",
    "    -  Number of times that he/she buys takeaway food: 0, less than 1, 1 to 3, 4 to 8 or greater\n",
    "    than 8\n",
    "    -  Number of times that he/she goes to a coffee house: 0, less than 1, 1 to 3, 4 to 8 or\n",
    "    greater than 8\n",
    "    -  Number of times that he/she eats at a restaurant with average expense less than \\\\$20 per\n",
    "    person: 0, less than 1, 1 to 3, 4 to 8 or greater than 8\n",
    "    -  Number of times that he/she goes to a bar: 0, less than 1, 1 to 3, 4 to 8 or greater than 8\n",
    "    \n",
    "\n",
    "2. Contextual attributes\n",
    "    - Driving destination: home, work, or no urgent destination\n",
    "    - Location of user, coupon and destination: we provide a map to show the geographical\n",
    "    location of the user, destination, and the venue, and we mark the distance between each\n",
    "    two places with time of driving. The user can see whether the venue is in the same\n",
    "    direction as the destination.\n",
    "    - Weather: sunny, rainy, or snowy\n",
    "    - Temperature: 30F, 55F, or 80F\n",
    "    - Time: 10AM, 2PM, or 6PM\n",
    "    - Passenger: alone, partner, kid(s), or friend(s)\n",
    "\n",
    "\n",
    "3. Coupon attributes\n",
    "    - time before it expires: 2 hours or one day"
   ]
  },
  {
   "cell_type": "code",
   "execution_count": 1,
   "metadata": {
    "id": "dzNoP3o__qRG"
   },
   "outputs": [],
   "source": [
    "import matplotlib.pyplot as plt\n",
    "import seaborn as sns\n",
    "import pandas as pd\n",
    "import numpy as np"
   ]
  },
  {
   "cell_type": "markdown",
   "metadata": {
    "id": "Ct8pI1uE_qRG"
   },
   "source": [
    "### Problems\n",
    "\n",
    "Use the prompts below to get started with your data analysis.  \n",
    "\n",
    "1. Read in the `coupons.csv` file.\n",
    "\n",
    "\n"
   ]
  },
  {
   "cell_type": "code",
   "execution_count": 2,
   "metadata": {
    "id": "X0vbffYg_qRH"
   },
   "outputs": [],
   "source": [
    "data = pd.read_csv('data/coupons.csv')"
   ]
  },
  {
   "cell_type": "code",
   "execution_count": 3,
   "metadata": {
    "id": "TXofQ_DF_qRH",
    "outputId": "2fc96a2c-1112-4b54-f24f-dbb9bc88abfb"
   },
   "outputs": [
    {
     "data": {
      "text/html": [
       "<div>\n",
       "<style scoped>\n",
       "    .dataframe tbody tr th:only-of-type {\n",
       "        vertical-align: middle;\n",
       "    }\n",
       "\n",
       "    .dataframe tbody tr th {\n",
       "        vertical-align: top;\n",
       "    }\n",
       "\n",
       "    .dataframe thead th {\n",
       "        text-align: right;\n",
       "    }\n",
       "</style>\n",
       "<table border=\"1\" class=\"dataframe\">\n",
       "  <thead>\n",
       "    <tr style=\"text-align: right;\">\n",
       "      <th></th>\n",
       "      <th>destination</th>\n",
       "      <th>passanger</th>\n",
       "      <th>weather</th>\n",
       "      <th>temperature</th>\n",
       "      <th>time</th>\n",
       "      <th>coupon</th>\n",
       "      <th>expiration</th>\n",
       "      <th>gender</th>\n",
       "      <th>age</th>\n",
       "      <th>maritalStatus</th>\n",
       "      <th>...</th>\n",
       "      <th>CoffeeHouse</th>\n",
       "      <th>CarryAway</th>\n",
       "      <th>RestaurantLessThan20</th>\n",
       "      <th>Restaurant20To50</th>\n",
       "      <th>toCoupon_GEQ5min</th>\n",
       "      <th>toCoupon_GEQ15min</th>\n",
       "      <th>toCoupon_GEQ25min</th>\n",
       "      <th>direction_same</th>\n",
       "      <th>direction_opp</th>\n",
       "      <th>Y</th>\n",
       "    </tr>\n",
       "  </thead>\n",
       "  <tbody>\n",
       "    <tr>\n",
       "      <th>0</th>\n",
       "      <td>No Urgent Place</td>\n",
       "      <td>Alone</td>\n",
       "      <td>Sunny</td>\n",
       "      <td>55</td>\n",
       "      <td>2PM</td>\n",
       "      <td>Restaurant(&lt;20)</td>\n",
       "      <td>1d</td>\n",
       "      <td>Female</td>\n",
       "      <td>21</td>\n",
       "      <td>Unmarried partner</td>\n",
       "      <td>...</td>\n",
       "      <td>never</td>\n",
       "      <td>NaN</td>\n",
       "      <td>4~8</td>\n",
       "      <td>1~3</td>\n",
       "      <td>1</td>\n",
       "      <td>0</td>\n",
       "      <td>0</td>\n",
       "      <td>0</td>\n",
       "      <td>1</td>\n",
       "      <td>1</td>\n",
       "    </tr>\n",
       "    <tr>\n",
       "      <th>1</th>\n",
       "      <td>No Urgent Place</td>\n",
       "      <td>Friend(s)</td>\n",
       "      <td>Sunny</td>\n",
       "      <td>80</td>\n",
       "      <td>10AM</td>\n",
       "      <td>Coffee House</td>\n",
       "      <td>2h</td>\n",
       "      <td>Female</td>\n",
       "      <td>21</td>\n",
       "      <td>Unmarried partner</td>\n",
       "      <td>...</td>\n",
       "      <td>never</td>\n",
       "      <td>NaN</td>\n",
       "      <td>4~8</td>\n",
       "      <td>1~3</td>\n",
       "      <td>1</td>\n",
       "      <td>0</td>\n",
       "      <td>0</td>\n",
       "      <td>0</td>\n",
       "      <td>1</td>\n",
       "      <td>0</td>\n",
       "    </tr>\n",
       "    <tr>\n",
       "      <th>2</th>\n",
       "      <td>No Urgent Place</td>\n",
       "      <td>Friend(s)</td>\n",
       "      <td>Sunny</td>\n",
       "      <td>80</td>\n",
       "      <td>10AM</td>\n",
       "      <td>Carry out &amp; Take away</td>\n",
       "      <td>2h</td>\n",
       "      <td>Female</td>\n",
       "      <td>21</td>\n",
       "      <td>Unmarried partner</td>\n",
       "      <td>...</td>\n",
       "      <td>never</td>\n",
       "      <td>NaN</td>\n",
       "      <td>4~8</td>\n",
       "      <td>1~3</td>\n",
       "      <td>1</td>\n",
       "      <td>1</td>\n",
       "      <td>0</td>\n",
       "      <td>0</td>\n",
       "      <td>1</td>\n",
       "      <td>1</td>\n",
       "    </tr>\n",
       "    <tr>\n",
       "      <th>3</th>\n",
       "      <td>No Urgent Place</td>\n",
       "      <td>Friend(s)</td>\n",
       "      <td>Sunny</td>\n",
       "      <td>80</td>\n",
       "      <td>2PM</td>\n",
       "      <td>Coffee House</td>\n",
       "      <td>2h</td>\n",
       "      <td>Female</td>\n",
       "      <td>21</td>\n",
       "      <td>Unmarried partner</td>\n",
       "      <td>...</td>\n",
       "      <td>never</td>\n",
       "      <td>NaN</td>\n",
       "      <td>4~8</td>\n",
       "      <td>1~3</td>\n",
       "      <td>1</td>\n",
       "      <td>1</td>\n",
       "      <td>0</td>\n",
       "      <td>0</td>\n",
       "      <td>1</td>\n",
       "      <td>0</td>\n",
       "    </tr>\n",
       "    <tr>\n",
       "      <th>4</th>\n",
       "      <td>No Urgent Place</td>\n",
       "      <td>Friend(s)</td>\n",
       "      <td>Sunny</td>\n",
       "      <td>80</td>\n",
       "      <td>2PM</td>\n",
       "      <td>Coffee House</td>\n",
       "      <td>1d</td>\n",
       "      <td>Female</td>\n",
       "      <td>21</td>\n",
       "      <td>Unmarried partner</td>\n",
       "      <td>...</td>\n",
       "      <td>never</td>\n",
       "      <td>NaN</td>\n",
       "      <td>4~8</td>\n",
       "      <td>1~3</td>\n",
       "      <td>1</td>\n",
       "      <td>1</td>\n",
       "      <td>0</td>\n",
       "      <td>0</td>\n",
       "      <td>1</td>\n",
       "      <td>0</td>\n",
       "    </tr>\n",
       "  </tbody>\n",
       "</table>\n",
       "<p>5 rows × 26 columns</p>\n",
       "</div>"
      ],
      "text/plain": [
       "       destination  passanger weather  temperature  time  \\\n",
       "0  No Urgent Place      Alone   Sunny           55   2PM   \n",
       "1  No Urgent Place  Friend(s)   Sunny           80  10AM   \n",
       "2  No Urgent Place  Friend(s)   Sunny           80  10AM   \n",
       "3  No Urgent Place  Friend(s)   Sunny           80   2PM   \n",
       "4  No Urgent Place  Friend(s)   Sunny           80   2PM   \n",
       "\n",
       "                  coupon expiration  gender age      maritalStatus  ...  \\\n",
       "0        Restaurant(<20)         1d  Female  21  Unmarried partner  ...   \n",
       "1           Coffee House         2h  Female  21  Unmarried partner  ...   \n",
       "2  Carry out & Take away         2h  Female  21  Unmarried partner  ...   \n",
       "3           Coffee House         2h  Female  21  Unmarried partner  ...   \n",
       "4           Coffee House         1d  Female  21  Unmarried partner  ...   \n",
       "\n",
       "   CoffeeHouse CarryAway RestaurantLessThan20 Restaurant20To50  \\\n",
       "0        never       NaN                  4~8              1~3   \n",
       "1        never       NaN                  4~8              1~3   \n",
       "2        never       NaN                  4~8              1~3   \n",
       "3        never       NaN                  4~8              1~3   \n",
       "4        never       NaN                  4~8              1~3   \n",
       "\n",
       "  toCoupon_GEQ5min toCoupon_GEQ15min toCoupon_GEQ25min direction_same  \\\n",
       "0                1                 0                 0              0   \n",
       "1                1                 0                 0              0   \n",
       "2                1                 1                 0              0   \n",
       "3                1                 1                 0              0   \n",
       "4                1                 1                 0              0   \n",
       "\n",
       "  direction_opp  Y  \n",
       "0             1  1  \n",
       "1             1  0  \n",
       "2             1  1  \n",
       "3             1  0  \n",
       "4             1  0  \n",
       "\n",
       "[5 rows x 26 columns]"
      ]
     },
     "execution_count": 3,
     "metadata": {},
     "output_type": "execute_result"
    }
   ],
   "source": [
    "data.head()"
   ]
  },
  {
   "cell_type": "markdown",
   "metadata": {
    "id": "GcDs78ZH_qRH"
   },
   "source": [
    "2. Investigate the dataset for missing or problematic data."
   ]
  },
  {
   "cell_type": "code",
   "execution_count": 4,
   "metadata": {},
   "outputs": [
    {
     "name": "stdout",
     "output_type": "stream",
     "text": [
      "<class 'pandas.core.frame.DataFrame'>\n",
      "RangeIndex: 12684 entries, 0 to 12683\n",
      "Data columns (total 26 columns):\n",
      " #   Column                Non-Null Count  Dtype \n",
      "---  ------                --------------  ----- \n",
      " 0   destination           12684 non-null  object\n",
      " 1   passanger             12684 non-null  object\n",
      " 2   weather               12684 non-null  object\n",
      " 3   temperature           12684 non-null  int64 \n",
      " 4   time                  12684 non-null  object\n",
      " 5   coupon                12684 non-null  object\n",
      " 6   expiration            12684 non-null  object\n",
      " 7   gender                12684 non-null  object\n",
      " 8   age                   12684 non-null  object\n",
      " 9   maritalStatus         12684 non-null  object\n",
      " 10  has_children          12684 non-null  int64 \n",
      " 11  education             12684 non-null  object\n",
      " 12  occupation            12684 non-null  object\n",
      " 13  income                12684 non-null  object\n",
      " 14  car                   108 non-null    object\n",
      " 15  Bar                   12577 non-null  object\n",
      " 16  CoffeeHouse           12467 non-null  object\n",
      " 17  CarryAway             12533 non-null  object\n",
      " 18  RestaurantLessThan20  12554 non-null  object\n",
      " 19  Restaurant20To50      12495 non-null  object\n",
      " 20  toCoupon_GEQ5min      12684 non-null  int64 \n",
      " 21  toCoupon_GEQ15min     12684 non-null  int64 \n",
      " 22  toCoupon_GEQ25min     12684 non-null  int64 \n",
      " 23  direction_same        12684 non-null  int64 \n",
      " 24  direction_opp         12684 non-null  int64 \n",
      " 25  Y                     12684 non-null  int64 \n",
      "dtypes: int64(8), object(18)\n",
      "memory usage: 2.5+ MB\n"
     ]
    }
   ],
   "source": [
    "data.info()"
   ]
  },
  {
   "cell_type": "code",
   "execution_count": 5,
   "metadata": {
    "id": "6CwL6oWj_qRH"
   },
   "outputs": [
    {
     "name": "stdout",
     "output_type": "stream",
     "text": [
      "Missing values:\n",
      " destination                 0\n",
      "passanger                   0\n",
      "weather                     0\n",
      "temperature                 0\n",
      "time                        0\n",
      "coupon                      0\n",
      "expiration                  0\n",
      "gender                      0\n",
      "age                         0\n",
      "maritalStatus               0\n",
      "has_children                0\n",
      "education                   0\n",
      "occupation                  0\n",
      "income                      0\n",
      "car                     12576\n",
      "Bar                       107\n",
      "CoffeeHouse               217\n",
      "CarryAway                 151\n",
      "RestaurantLessThan20      130\n",
      "Restaurant20To50          189\n",
      "toCoupon_GEQ5min            0\n",
      "toCoupon_GEQ15min           0\n",
      "toCoupon_GEQ25min           0\n",
      "direction_same              0\n",
      "direction_opp               0\n",
      "Y                           0\n",
      "dtype: int64\n"
     ]
    }
   ],
   "source": [
    "# Check for missing values\n",
    "\n",
    "missing_values = data.isnull().sum()\n",
    "print(\"Missing values:\\n\", missing_values)"
   ]
  },
  {
   "cell_type": "code",
   "execution_count": 7,
   "metadata": {},
   "outputs": [
    {
     "name": "stdout",
     "output_type": "stream",
     "text": [
      "\n",
      "Data statistics:\n",
      "         temperature  has_children  toCoupon_GEQ5min  toCoupon_GEQ15min  \\\n",
      "count  12684.000000  12684.000000           12684.0       12684.000000   \n",
      "mean      63.301798      0.414144               1.0           0.561495   \n",
      "std       19.154486      0.492593               0.0           0.496224   \n",
      "min       30.000000      0.000000               1.0           0.000000   \n",
      "25%       55.000000      0.000000               1.0           0.000000   \n",
      "50%       80.000000      0.000000               1.0           1.000000   \n",
      "75%       80.000000      1.000000               1.0           1.000000   \n",
      "max       80.000000      1.000000               1.0           1.000000   \n",
      "\n",
      "       toCoupon_GEQ25min  direction_same  direction_opp             Y  \n",
      "count       12684.000000    12684.000000   12684.000000  12684.000000  \n",
      "mean            0.119126        0.214759       0.785241      0.568433  \n",
      "std             0.323950        0.410671       0.410671      0.495314  \n",
      "min             0.000000        0.000000       0.000000      0.000000  \n",
      "25%             0.000000        0.000000       1.000000      0.000000  \n",
      "50%             0.000000        0.000000       1.000000      1.000000  \n",
      "75%             0.000000        0.000000       1.000000      1.000000  \n",
      "max             1.000000        1.000000       1.000000      1.000000  \n"
     ]
    }
   ],
   "source": [
    "# Descriptive statistics\n",
    "\n",
    "print(\"\\nData statistics:\\n\", data.describe())"
   ]
  },
  {
   "cell_type": "markdown",
   "metadata": {
    "id": "bSdVSpYB_qRH"
   },
   "source": [
    "3. Decide what to do about your missing data -- drop, replace, other..."
   ]
  },
  {
   "cell_type": "code",
   "execution_count": 8,
   "metadata": {
    "id": "tyvoAC5F_qRI"
   },
   "outputs": [
    {
     "name": "stdout",
     "output_type": "stream",
     "text": [
      "car                     99.148534\n",
      "Bar                      0.843582\n",
      "CoffeeHouse              1.710817\n",
      "CarryAway                1.190476\n",
      "RestaurantLessThan20     1.024913\n",
      "Restaurant20To50         1.490066\n",
      "dtype: float64\n"
     ]
    }
   ],
   "source": [
    "# calculate the percentage of missing data for each variable with missing values\n",
    "\n",
    "missing_percentage = data.isnull().mean() * 100\n",
    "print(missing_percentage[missing_percentage > 0])"
   ]
  },
  {
   "cell_type": "code",
   "execution_count": 9,
   "metadata": {},
   "outputs": [],
   "source": [
    "# since the variable 'car' has over 99% of missing values, drop this variable from the dataset\n",
    "\n",
    "data = data.drop('car', axis=1)\n",
    "\n",
    "# other variables with missing data have relatively low % of missing values - and \n",
    "# since these are all categorical variables, replace missing values with a mode\n",
    "\n",
    "for column in data.select_dtypes(include=['category', 'object']):\n",
    "    mode_value = data[column].mode()[0]\n",
    "    data[column].fillna(mode_value, inplace=True)"
   ]
  },
  {
   "cell_type": "code",
   "execution_count": 11,
   "metadata": {},
   "outputs": [
    {
     "name": "stdout",
     "output_type": "stream",
     "text": [
      "Missing values:\n",
      " destination             0\n",
      "passanger               0\n",
      "weather                 0\n",
      "temperature             0\n",
      "time                    0\n",
      "coupon                  0\n",
      "expiration              0\n",
      "gender                  0\n",
      "age                     0\n",
      "maritalStatus           0\n",
      "has_children            0\n",
      "education               0\n",
      "occupation              0\n",
      "income                  0\n",
      "Bar                     0\n",
      "CoffeeHouse             0\n",
      "CarryAway               0\n",
      "RestaurantLessThan20    0\n",
      "Restaurant20To50        0\n",
      "toCoupon_GEQ5min        0\n",
      "toCoupon_GEQ15min       0\n",
      "toCoupon_GEQ25min       0\n",
      "direction_same          0\n",
      "direction_opp           0\n",
      "Y                       0\n",
      "dtype: int64\n"
     ]
    }
   ],
   "source": [
    "# Re-check for missing values\n",
    "\n",
    "missing_values = data.isnull().sum()\n",
    "print(\"Missing values:\\n\", missing_values)"
   ]
  },
  {
   "cell_type": "markdown",
   "metadata": {
    "id": "YE6oJbXd_qRI"
   },
   "source": [
    "4. What proportion of the total observations chose to accept the coupon?\n",
    "\n"
   ]
  },
  {
   "cell_type": "code",
   "execution_count": 17,
   "metadata": {
    "id": "86GGqBTv_qRI"
   },
   "outputs": [
    {
     "name": "stdout",
     "output_type": "stream",
     "text": [
      "Proportion of total observations that accepted the coupon: 56.84%\n"
     ]
    }
   ],
   "source": [
    "proportion_accept_coupon = data['Y'].value_counts(normalize=True).get(1, 0)\n",
    "print(f\"Proportion of total observations that accepted the coupon: {proportion_accept_coupon:.2%}\")"
   ]
  },
  {
   "cell_type": "markdown",
   "metadata": {
    "id": "vflz0DoE_qRI"
   },
   "source": [
    "5. Use a bar plot to visualize the `coupon` column."
   ]
  },
  {
   "cell_type": "code",
   "execution_count": 33,
   "metadata": {
    "id": "dHFh3E45_qRI"
   },
   "outputs": [
    {
     "data": {
      "image/png": "[encoded data removed]",
      "text/plain": [
       "<Figure size 640x480 with 1 Axes>"
      ]
     },
     "metadata": {},
     "output_type": "display_data"
    }
   ],
   "source": [
    "# Get coupon counts and sort descending\n",
    "coupon_counts = data['coupon'].value_counts()\n",
    "sorted_counts = coupon_counts.sort_values(ascending=False)\n",
    "\n",
    "# Generate a range of blue shades from medium to dark\n",
    "num_categories = len(sorted_counts)\n",
    "shades = np.linspace(0.4, 0.9, num_categories) \n",
    "colors = [plt.cm.Blues(shade) for shade in sorted(shades, reverse=True)]\n",
    "\n",
    "# Plot\n",
    "sorted_counts.plot(kind='bar', color=colors)\n",
    "plt.title('Coupon Type Frequency')\n",
    "plt.xlabel('Type')\n",
    "plt.ylabel('Frequency')\n",
    "plt.xticks(rotation=90)\n",
    "plt.tight_layout()\n",
    "plt.show()"
   ]
  },
  {
   "cell_type": "markdown",
   "metadata": {
    "id": "Qw4lCyx2_qRI"
   },
   "source": [
    "6. Use a histogram to visualize the temperature column."
   ]
  },
  {
   "cell_type": "code",
   "execution_count": 36,
   "metadata": {
    "id": "Yg9Anv71_qRI"
   },
   "outputs": [
    {
     "data": {
      "image/png": "[encoded data removed]",
      "text/plain": [
       "<Figure size 640x480 with 1 Axes>"
      ]
     },
     "metadata": {},
     "output_type": "display_data"
    }
   ],
   "source": [
    "plt.hist(data['temperature'])\n",
    "plt.title('Temperature Distribution')\n",
    "plt.xlabel('Temperature')\n",
    "plt.ylabel('Frequency')\n",
    "plt.show()"
   ]
  },
  {
   "cell_type": "markdown",
   "metadata": {
    "id": "FupfgeJk_qRJ"
   },
   "source": [
    "**Investigating the Bar Coupons**\n",
    "\n",
    "Now, we will lead you through an exploration of just the bar related coupons.  \n",
    "\n",
    "1. Create a new `DataFrame` that contains just the bar coupons.\n"
   ]
  },
  {
   "cell_type": "code",
   "execution_count": 40,
   "metadata": {
    "id": "tMBlWuGq_qRJ"
   },
   "outputs": [
    {
     "data": {
      "text/html": [
       "<div>\n",
       "<style scoped>\n",
       "    .dataframe tbody tr th:only-of-type {\n",
       "        vertical-align: middle;\n",
       "    }\n",
       "\n",
       "    .dataframe tbody tr th {\n",
       "        vertical-align: top;\n",
       "    }\n",
       "\n",
       "    .dataframe thead th {\n",
       "        text-align: right;\n",
       "    }\n",
       "</style>\n",
       "<table border=\"1\" class=\"dataframe\">\n",
       "  <thead>\n",
       "    <tr style=\"text-align: right;\">\n",
       "      <th></th>\n",
       "      <th>destination</th>\n",
       "      <th>passanger</th>\n",
       "      <th>weather</th>\n",
       "      <th>temperature</th>\n",
       "      <th>time</th>\n",
       "      <th>expiration</th>\n",
       "      <th>gender</th>\n",
       "      <th>age</th>\n",
       "      <th>maritalStatus</th>\n",
       "      <th>has_children</th>\n",
       "      <th>...</th>\n",
       "      <th>CoffeeHouse</th>\n",
       "      <th>CarryAway</th>\n",
       "      <th>RestaurantLessThan20</th>\n",
       "      <th>Restaurant20To50</th>\n",
       "      <th>toCoupon_GEQ5min</th>\n",
       "      <th>toCoupon_GEQ15min</th>\n",
       "      <th>toCoupon_GEQ25min</th>\n",
       "      <th>direction_same</th>\n",
       "      <th>direction_opp</th>\n",
       "      <th>Y</th>\n",
       "    </tr>\n",
       "  </thead>\n",
       "  <tbody>\n",
       "    <tr>\n",
       "      <th>0</th>\n",
       "      <td>No Urgent Place</td>\n",
       "      <td>Kid(s)</td>\n",
       "      <td>Sunny</td>\n",
       "      <td>80</td>\n",
       "      <td>10AM</td>\n",
       "      <td>1d</td>\n",
       "      <td>Female</td>\n",
       "      <td>21</td>\n",
       "      <td>Unmarried partner</td>\n",
       "      <td>1</td>\n",
       "      <td>...</td>\n",
       "      <td>never</td>\n",
       "      <td>1~3</td>\n",
       "      <td>4~8</td>\n",
       "      <td>1~3</td>\n",
       "      <td>1</td>\n",
       "      <td>1</td>\n",
       "      <td>0</td>\n",
       "      <td>0</td>\n",
       "      <td>1</td>\n",
       "      <td>0</td>\n",
       "    </tr>\n",
       "    <tr>\n",
       "      <th>1</th>\n",
       "      <td>Home</td>\n",
       "      <td>Alone</td>\n",
       "      <td>Sunny</td>\n",
       "      <td>55</td>\n",
       "      <td>6PM</td>\n",
       "      <td>1d</td>\n",
       "      <td>Female</td>\n",
       "      <td>21</td>\n",
       "      <td>Unmarried partner</td>\n",
       "      <td>1</td>\n",
       "      <td>...</td>\n",
       "      <td>never</td>\n",
       "      <td>1~3</td>\n",
       "      <td>4~8</td>\n",
       "      <td>1~3</td>\n",
       "      <td>1</td>\n",
       "      <td>0</td>\n",
       "      <td>0</td>\n",
       "      <td>1</td>\n",
       "      <td>0</td>\n",
       "      <td>1</td>\n",
       "    </tr>\n",
       "    <tr>\n",
       "      <th>2</th>\n",
       "      <td>Work</td>\n",
       "      <td>Alone</td>\n",
       "      <td>Sunny</td>\n",
       "      <td>55</td>\n",
       "      <td>7AM</td>\n",
       "      <td>1d</td>\n",
       "      <td>Female</td>\n",
       "      <td>21</td>\n",
       "      <td>Unmarried partner</td>\n",
       "      <td>1</td>\n",
       "      <td>...</td>\n",
       "      <td>never</td>\n",
       "      <td>1~3</td>\n",
       "      <td>4~8</td>\n",
       "      <td>1~3</td>\n",
       "      <td>1</td>\n",
       "      <td>1</td>\n",
       "      <td>1</td>\n",
       "      <td>0</td>\n",
       "      <td>1</td>\n",
       "      <td>0</td>\n",
       "    </tr>\n",
       "    <tr>\n",
       "      <th>3</th>\n",
       "      <td>No Urgent Place</td>\n",
       "      <td>Friend(s)</td>\n",
       "      <td>Sunny</td>\n",
       "      <td>80</td>\n",
       "      <td>10AM</td>\n",
       "      <td>1d</td>\n",
       "      <td>Male</td>\n",
       "      <td>21</td>\n",
       "      <td>Single</td>\n",
       "      <td>0</td>\n",
       "      <td>...</td>\n",
       "      <td>less1</td>\n",
       "      <td>4~8</td>\n",
       "      <td>4~8</td>\n",
       "      <td>less1</td>\n",
       "      <td>1</td>\n",
       "      <td>0</td>\n",
       "      <td>0</td>\n",
       "      <td>0</td>\n",
       "      <td>1</td>\n",
       "      <td>1</td>\n",
       "    </tr>\n",
       "    <tr>\n",
       "      <th>4</th>\n",
       "      <td>Home</td>\n",
       "      <td>Alone</td>\n",
       "      <td>Sunny</td>\n",
       "      <td>55</td>\n",
       "      <td>6PM</td>\n",
       "      <td>1d</td>\n",
       "      <td>Male</td>\n",
       "      <td>21</td>\n",
       "      <td>Single</td>\n",
       "      <td>0</td>\n",
       "      <td>...</td>\n",
       "      <td>less1</td>\n",
       "      <td>4~8</td>\n",
       "      <td>4~8</td>\n",
       "      <td>less1</td>\n",
       "      <td>1</td>\n",
       "      <td>0</td>\n",
       "      <td>0</td>\n",
       "      <td>1</td>\n",
       "      <td>0</td>\n",
       "      <td>1</td>\n",
       "    </tr>\n",
       "  </tbody>\n",
       "</table>\n",
       "<p>5 rows × 24 columns</p>\n",
       "</div>"
      ],
      "text/plain": [
       "       destination  passanger weather  temperature  time expiration  gender  \\\n",
       "0  No Urgent Place     Kid(s)   Sunny           80  10AM         1d  Female   \n",
       "1             Home      Alone   Sunny           55   6PM         1d  Female   \n",
       "2             Work      Alone   Sunny           55   7AM         1d  Female   \n",
       "3  No Urgent Place  Friend(s)   Sunny           80  10AM         1d    Male   \n",
       "4             Home      Alone   Sunny           55   6PM         1d    Male   \n",
       "\n",
       "  age      maritalStatus  has_children  ... CoffeeHouse CarryAway  \\\n",
       "0  21  Unmarried partner             1  ...       never       1~3   \n",
       "1  21  Unmarried partner             1  ...       never       1~3   \n",
       "2  21  Unmarried partner             1  ...       never       1~3   \n",
       "3  21             Single             0  ...       less1       4~8   \n",
       "4  21             Single             0  ...       less1       4~8   \n",
       "\n",
       "  RestaurantLessThan20 Restaurant20To50 toCoupon_GEQ5min toCoupon_GEQ15min  \\\n",
       "0                  4~8              1~3                1                 1   \n",
       "1                  4~8              1~3                1                 0   \n",
       "2                  4~8              1~3                1                 1   \n",
       "3                  4~8            less1                1                 0   \n",
       "4                  4~8            less1                1                 0   \n",
       "\n",
       "  toCoupon_GEQ25min direction_same  direction_opp  Y  \n",
       "0                 0              0              1  0  \n",
       "1                 0              1              0  1  \n",
       "2                 1              0              1  0  \n",
       "3                 0              0              1  1  \n",
       "4                 0              1              0  1  \n",
       "\n",
       "[5 rows x 24 columns]"
      ]
     },
     "execution_count": 40,
     "metadata": {},
     "output_type": "execute_result"
    }
   ],
   "source": [
    "bar = data[data['coupon'] == 'Bar']\n",
    "bar = bar.drop('coupon', axis=1)\n",
    "bar.reset_index(drop=True, inplace=True)\n",
    "bar.head()"
   ]
  },
  {
   "cell_type": "markdown",
   "metadata": {
    "id": "8ue6uCqf_qRJ"
   },
   "source": [
    "2. What proportion of bar coupons were accepted?\n"
   ]
  },
  {
   "cell_type": "code",
   "execution_count": 41,
   "metadata": {
    "id": "hSdte8Mi_qRK"
   },
   "outputs": [
    {
     "name": "stdout",
     "output_type": "stream",
     "text": [
      "Proportion of bar coupons accepted: 41.00%\n"
     ]
    }
   ],
   "source": [
    "proportion_accept_bar = bar['Y'].value_counts(normalize=True).get(1, 0)\n",
    "print(f\"Proportion of bar coupons accepted: {proportion_accept_bar:.2%}\")"
   ]
  },
  {
   "cell_type": "markdown",
   "metadata": {
    "id": "85nA_iEi_qRK"
   },
   "source": [
    "3. Compare the acceptance rate between those who went to a bar 3 or fewer times a month to those who went more.\n"
   ]
  },
  {
   "cell_type": "code",
   "execution_count": 44,
   "metadata": {
    "id": "LBOrN-XM_qRK"
   },
   "outputs": [
    {
     "name": "stdout",
     "output_type": "stream",
     "text": [
      "Acceptance rate for High bar visitors: 76.88%\n",
      "Acceptance rate for Low bar visitors: 37.07%\n"
     ]
    }
   ],
   "source": [
    "# Bar is a categorical variable so we have to define the mapping\n",
    "low_freq = ['never', 'less1', '1~3']\n",
    "high_freq = ['4~8', 'gt8']\n",
    "\n",
    "# Create a new column for visit group\n",
    "bar['visit_group'] = bar['Bar'].apply(lambda x: 'Low' if x in low_freq else ('High' if x in high_freq else 'Unknown'))\n",
    "\n",
    "acceptance_by_group = (\n",
    "    bar.groupby('visit_group')['Y']\n",
    "    .value_counts(normalize=True)\n",
    "    .unstack()\n",
    "    .fillna(0)\n",
    "    .loc[:, 1]  # Select the proportion of accepted coupons\n",
    ")\n",
    "\n",
    "# Display results\n",
    "for group, rate in acceptance_by_group.items():\n",
    "    print(f\"Acceptance rate for {group} bar visitors: {rate:.2%}\")"
   ]
  },
  {
   "cell_type": "markdown",
   "metadata": {
    "id": "RBgcQwH4_qRK"
   },
   "source": [
    "4. Compare the acceptance rate between drivers who go to a bar more than once a month and are over the age of 25 to the all others.  Is there a difference?\n"
   ]
  },
  {
   "cell_type": "code",
   "execution_count": 50,
   "metadata": {
    "id": "bf28bbeX_qRK"
   },
   "outputs": [
    {
     "name": "stdout",
     "output_type": "stream",
     "text": [
      "Acceptance rate for frequent bar-goers over 25: 69.52%\n",
      "Acceptance rate for everyone else: 33.50%\n"
     ]
    }
   ],
   "source": [
    "# Since 'age' is a categorical variable, we need to transform it into numerical format\n",
    "\n",
    "age_map = {\n",
    "    'below21': 20,\n",
    "    '50plus': 50\n",
    "}\n",
    "\n",
    "# Convert the column to numeric\n",
    "bar['age'] = bar['age'].replace(age_map).astype(int)\n",
    "\n",
    "# Define high-frequency bar visitors\n",
    "frequent_visitors = ['1~3', '4~8', 'gt8']\n",
    "\n",
    "# Create a boolean mask for the target group\n",
    "target_group = bar[(bar['Bar'].isin(frequent_visitors)) & (bar['age'] > 25)]\n",
    "\n",
    "# Create a mask for all other observations\n",
    "other_group = bar[~((bar['Bar'].isin(frequent_visitors)) & (bar['age'] > 25))]\n",
    "\n",
    "# Calculate acceptance rates for both groups\n",
    "target_accept = target_group['Y'].value_counts(normalize=True).get(1, 0)\n",
    "other_accept = other_group['Y'].value_counts(normalize=True).get(1, 0)\n",
    "\n",
    "# Print the comparison\n",
    "print(f\"Acceptance rate for frequent bar-goers over 25: {target_accept:.2%}\")\n",
    "print(f\"Acceptance rate for everyone else: {other_accept:.2%}\")"
   ]
  },
  {
   "cell_type": "code",
   "execution_count": 52,
   "metadata": {},
   "outputs": [
    {
     "data": {
      "image/png": "[encoded data removed]",
      "text/plain": [
       "<Figure size 640x480 with 1 Axes>"
      ]
     },
     "metadata": {},
     "output_type": "display_data"
    }
   ],
   "source": [
    "# Define labels and rates \n",
    "labels = ['Frequent Bar-Goers >25', 'All Others']\n",
    "rates = [target_accept, other_accept]\n",
    "colors = ['#1F77B4', '#AED6F1']  # Darker blue for target, lighter for others\n",
    "\n",
    "# Create the bar chart\n",
    "plt.bar(labels, rates, color=colors)\n",
    "plt.title('Coupon Acceptance Rate Comparison')\n",
    "plt.ylabel('Acceptance Rate')\n",
    "plt.ylim(0, 1)  # Ensure y-axis is scaled for percentage display\n",
    "plt.gca().yaxis.set_major_formatter(plt.FuncFormatter(lambda y, _: f'{y:.0%}'))\n",
    "plt.grid(axis='y', linestyle='--', alpha=0.5)\n",
    "plt.tight_layout()\n",
    "plt.show()"
   ]
  },
  {
   "cell_type": "markdown",
   "metadata": {},
   "source": [
    "#### As shown on the analysis and bar charts above - there is a clear difference between drivers who go to a bar more than once a month and are over the age of 25 to the all others. Frequent bar goers over 25 accepted the coupons more than twice as often as everyone else."
   ]
  },
  {
   "cell_type": "markdown",
   "metadata": {
    "id": "S4RKT4PJ_qRK"
   },
   "source": [
    "5. Use the same process to compare the acceptance rate between drivers who go to bars more than once a month and had passengers that were not a kid and had occupations other than farming, fishing, or forestry.\n"
   ]
  },
  {
   "cell_type": "code",
   "execution_count": 55,
   "metadata": {
    "id": "sENaI2Tg_qRK"
   },
   "outputs": [
    {
     "name": "stdout",
     "output_type": "stream",
     "text": [
      "Acceptance rate for filtered group: 71.32%\n",
      "Acceptance rate for all others: 29.60%\n"
     ]
    }
   ],
   "source": [
    "frequent_visitors = ['1~3', '4~8', 'gt8']\n",
    "\n",
    "# Target group: meets all criteria\n",
    "target_group = bar[\n",
    "    (bar['Bar'].isin(frequent_visitors)) &\n",
    "    (bar['passanger'] != 'Kid(s)') &\n",
    "    (bar['occupation'] != 'Farming Fishing & Forestry')\n",
    "]\n",
    "\n",
    "# Comparison group: everyone else\n",
    "other_group = bar[~(\n",
    "    (bar['Bar'].isin(frequent_visitors)) &\n",
    "    (bar['passanger'] != 'Kid(s)') &\n",
    "    (bar['occupation'] != 'Farming Fishing & Forestry')\n",
    ")]\n",
    "\n",
    "target_accept = target_group['Y'].value_counts(normalize=True).get(1, 0)\n",
    "other_accept = other_group['Y'].value_counts(normalize=True).get(1, 0)\n",
    "\n",
    "print(f\"Acceptance rate for filtered group: {target_accept:.2%}\")\n",
    "print(f\"Acceptance rate for all others: {other_accept:.2%}\")"
   ]
  },
  {
   "cell_type": "code",
   "execution_count": 57,
   "metadata": {},
   "outputs": [
    {
     "data": {
      "image/png": "[encoded data removed]",
      "text/plain": [
       "<Figure size 640x480 with 1 Axes>"
      ]
     },
     "metadata": {},
     "output_type": "display_data"
    }
   ],
   "source": [
    "labels = ['Target Group', 'All Others']\n",
    "rates = [target_accept, other_accept]\n",
    "colors = ['#1F77B4', '#AED6F1'] \n",
    "\n",
    "plt.bar(labels, rates, color=colors)\n",
    "plt.title('Coupon Acceptance Rate: Bar-Going Adults w/Non-Kid Passengers')\n",
    "plt.ylabel('Acceptance Rate')\n",
    "plt.ylim(0, 1)\n",
    "plt.gca().yaxis.set_major_formatter(plt.FuncFormatter(lambda y, _: f'{y:.0%}'))\n",
    "plt.grid(axis='y', linestyle='--', alpha=0.5)\n",
    "plt.tight_layout()\n",
    "plt.show()"
   ]
  },
  {
   "cell_type": "markdown",
   "metadata": {
    "id": "n2LIUTil_qRK"
   },
   "source": [
    "6. Compare the acceptance rates between those drivers who:\n",
    "\n",
    "- go to bars more than once a month, had passengers that were not a kid, and were not widowed *OR*\n",
    "- go to bars more than once a month and are under the age of 30 *OR*\n",
    "- go to cheap restaurants more than 4 times a month and income is less than 50K.\n",
    "\n"
   ]
  },
  {
   "cell_type": "code",
   "execution_count": 60,
   "metadata": {
    "id": "aK_wEzx7_qRK"
   },
   "outputs": [],
   "source": [
    "# Conditions\n",
    "frequent_bar = bar['Bar'].isin(['1~3', '4~8', 'gt8'])\n",
    "non_kid_passenger = bar['passanger'] != 'Kid(s)'\n",
    "not_widowed = bar['maritalStatus'] != 'Widowed'\n",
    "under_30 = bar['age'] < 30\n",
    "frequent_cheap_eats = bar['RestaurantLessThan20'].isin(['4~8', 'gt8'])\n",
    "\n",
    "# Define acceptable income brackets\n",
    "low_income_categories = [\n",
    "    '$12500 - $24999',\n",
    "    '$25000 - $37499',\n",
    "    '$37500 - $49999'\n",
    "]\n",
    "\n",
    "# Updated income condition\n",
    "low_income = bar['income'].isin(low_income_categories)\n",
    "\n",
    "# Condition blocks\n",
    "condition_1 = frequent_bar & non_kid_passenger & not_widowed\n",
    "condition_2 = frequent_bar & under_30\n",
    "condition_3 = frequent_cheap_eats & low_income\n",
    "\n",
    "# Composite group (satisfies ANY of the three)\n",
    "target_group = bar[condition_1 | condition_2 | condition_3]\n",
    "\n",
    "# Everyone else\n",
    "other_group = bar[~(condition_1 | condition_2 | condition_3)]"
   ]
  },
  {
   "cell_type": "code",
   "execution_count": 61,
   "metadata": {},
   "outputs": [
    {
     "name": "stdout",
     "output_type": "stream",
     "text": [
      "Acceptance rate for target group: 61.24%\n",
      "Acceptance rate for all others: 29.64%\n"
     ]
    }
   ],
   "source": [
    "target_accept = target_group['Y'].value_counts(normalize=True).get(1, 0)\n",
    "other_accept = other_group['Y'].value_counts(normalize=True).get(1, 0)\n",
    "\n",
    "print(f\"Acceptance rate for target group: {target_accept:.2%}\")\n",
    "print(f\"Acceptance rate for all others: {other_accept:.2%}\")"
   ]
  },
  {
   "cell_type": "code",
   "execution_count": 63,
   "metadata": {},
   "outputs": [
    {
     "data": {
      "image/png": "[encoded data removed]",
      "text/plain": [
       "<Figure size 640x480 with 1 Axes>"
      ]
     },
     "metadata": {},
     "output_type": "display_data"
    }
   ],
   "source": [
    "labels = ['Target Group', 'All Others']\n",
    "rates = [target_accept, other_accept]\n",
    "colors = ['#1F77B4', '#AED6F1'] \n",
    "\n",
    "plt.bar(labels, rates, color=colors)\n",
    "plt.title('Coupon Acceptance Comparison')\n",
    "plt.ylabel('Acceptance Rate')\n",
    "plt.ylim(0, 1)\n",
    "plt.gca().yaxis.set_major_formatter(plt.FuncFormatter(lambda y, _: f'{y:.0%}'))\n",
    "plt.grid(axis='y', linestyle='--', alpha=0.5)\n",
    "plt.tight_layout()\n",
    "plt.show()\n"
   ]
  },
  {
   "cell_type": "markdown",
   "metadata": {
    "id": "v3fL3QkO_qRK"
   },
   "source": [
    "7.  Based on these observations, what do you hypothesize about drivers who accepted the bar coupons?"
   ]
  },
  {
   "cell_type": "markdown",
   "metadata": {
    "id": "Y48naDFh_qRL"
   },
   "source": [
    "<h2 style=\"color:green;\">Hypothesis: Drivers Likely to Accept Bar Coupons</h2>\n",
    "\n",
    "\n",
    "Based on the data analysis and supporting visualizations, we hypothesize that certain behavioral and demographic traits are strong indicators of coupon acceptance:\n",
    "\n",
    "1) **Age and Bar-Going Frequency:** Drivers over age 25 who go to bars more than once per month exhibited significantly higher coupon acceptance rates - more than double that of the general population. This suggests that older, socially active individuals are more responsive to targeted bar promotions.\n",
    "\n",
    "2) **Passenger Type and Occupation Influence:** Drivers who go to bars frequently, were accompanied by non-child passengers, and work outside of farming, fishing, and forestry accepted coupons at a notably higher rate (71%) compared to other groups (30%). This indicates that lifestyle and professional context may impact receptiveness to promotional offers.\n",
    "\n",
    "3) **Broader Behavioral Profile:** Drivers meeting at least one of the following criteria:\n",
    "    - Frequent bar-goers with non-child passengers who are not widowed\n",
    "    - Frequent bar-goers under age 30\n",
    "    - Frequent diners at inexpensive restaurants (more than four times a month) with income below $50K\n",
    "\n",
    "were collectively about twice as likely to accept bar coupons as all other drivers. These patterns reflect a strong association between social frequency, financial sensitivity, and promotional responsiveness.\n",
    "\n",
    "---"
   ]
  },
  {
   "cell_type": "markdown",
   "metadata": {
    "id": "r4Hu1zOb_qRL"
   },
   "source": [
    "## Independent Investigation\n",
    "\n",
    "Using the bar coupon example as motivation, you are to explore one of the other coupon groups and try to determine the characteristics of passengers who accept the coupons.  "
   ]
  },
  {
   "cell_type": "markdown",
   "metadata": {},
   "source": [
    "<h2 style=\"color:green;\">Nice Restaurants Coupon Acceptance Analysis</h2>\n",
    "\n",
    "Let's now explore the 'Restaurant(20-50)' coupons and try to determine the characteristics of passengers who accept the coupons. We'll call this coupon type 'nice restaurants'."
   ]
  },
  {
   "cell_type": "code",
   "execution_count": 64,
   "metadata": {
    "id": "0c71cQhu_qRL"
   },
   "outputs": [
    {
     "data": {
      "text/html": [
       "<div>\n",
       "<style scoped>\n",
       "    .dataframe tbody tr th:only-of-type {\n",
       "        vertical-align: middle;\n",
       "    }\n",
       "\n",
       "    .dataframe tbody tr th {\n",
       "        vertical-align: top;\n",
       "    }\n",
       "\n",
       "    .dataframe thead th {\n",
       "        text-align: right;\n",
       "    }\n",
       "</style>\n",
       "<table border=\"1\" class=\"dataframe\">\n",
       "  <thead>\n",
       "    <tr style=\"text-align: right;\">\n",
       "      <th></th>\n",
       "      <th>destination</th>\n",
       "      <th>passanger</th>\n",
       "      <th>weather</th>\n",
       "      <th>temperature</th>\n",
       "      <th>time</th>\n",
       "      <th>expiration</th>\n",
       "      <th>gender</th>\n",
       "      <th>age</th>\n",
       "      <th>maritalStatus</th>\n",
       "      <th>has_children</th>\n",
       "      <th>...</th>\n",
       "      <th>CarryAway</th>\n",
       "      <th>RestaurantLessThan20</th>\n",
       "      <th>Restaurant20To50</th>\n",
       "      <th>toCoupon_GEQ5min</th>\n",
       "      <th>toCoupon_GEQ15min</th>\n",
       "      <th>toCoupon_GEQ25min</th>\n",
       "      <th>direction_same</th>\n",
       "      <th>direction_opp</th>\n",
       "      <th>Y</th>\n",
       "      <th>age_num</th>\n",
       "    </tr>\n",
       "  </thead>\n",
       "  <tbody>\n",
       "    <tr>\n",
       "      <th>0</th>\n",
       "      <td>Home</td>\n",
       "      <td>Alone</td>\n",
       "      <td>Sunny</td>\n",
       "      <td>55</td>\n",
       "      <td>6PM</td>\n",
       "      <td>1d</td>\n",
       "      <td>Female</td>\n",
       "      <td>21</td>\n",
       "      <td>Unmarried partner</td>\n",
       "      <td>1</td>\n",
       "      <td>...</td>\n",
       "      <td>1~3</td>\n",
       "      <td>4~8</td>\n",
       "      <td>1~3</td>\n",
       "      <td>1</td>\n",
       "      <td>1</td>\n",
       "      <td>0</td>\n",
       "      <td>0</td>\n",
       "      <td>1</td>\n",
       "      <td>1</td>\n",
       "      <td>21</td>\n",
       "    </tr>\n",
       "    <tr>\n",
       "      <th>1</th>\n",
       "      <td>Work</td>\n",
       "      <td>Alone</td>\n",
       "      <td>Sunny</td>\n",
       "      <td>80</td>\n",
       "      <td>7AM</td>\n",
       "      <td>1d</td>\n",
       "      <td>Female</td>\n",
       "      <td>21</td>\n",
       "      <td>Unmarried partner</td>\n",
       "      <td>1</td>\n",
       "      <td>...</td>\n",
       "      <td>1~3</td>\n",
       "      <td>4~8</td>\n",
       "      <td>1~3</td>\n",
       "      <td>1</td>\n",
       "      <td>1</td>\n",
       "      <td>0</td>\n",
       "      <td>0</td>\n",
       "      <td>1</td>\n",
       "      <td>1</td>\n",
       "      <td>21</td>\n",
       "    </tr>\n",
       "    <tr>\n",
       "      <th>2</th>\n",
       "      <td>Home</td>\n",
       "      <td>Alone</td>\n",
       "      <td>Sunny</td>\n",
       "      <td>55</td>\n",
       "      <td>6PM</td>\n",
       "      <td>1d</td>\n",
       "      <td>Male</td>\n",
       "      <td>21</td>\n",
       "      <td>Single</td>\n",
       "      <td>0</td>\n",
       "      <td>...</td>\n",
       "      <td>4~8</td>\n",
       "      <td>4~8</td>\n",
       "      <td>less1</td>\n",
       "      <td>1</td>\n",
       "      <td>1</td>\n",
       "      <td>0</td>\n",
       "      <td>0</td>\n",
       "      <td>1</td>\n",
       "      <td>0</td>\n",
       "      <td>21</td>\n",
       "    </tr>\n",
       "    <tr>\n",
       "      <th>3</th>\n",
       "      <td>Work</td>\n",
       "      <td>Alone</td>\n",
       "      <td>Sunny</td>\n",
       "      <td>80</td>\n",
       "      <td>7AM</td>\n",
       "      <td>1d</td>\n",
       "      <td>Male</td>\n",
       "      <td>21</td>\n",
       "      <td>Single</td>\n",
       "      <td>0</td>\n",
       "      <td>...</td>\n",
       "      <td>4~8</td>\n",
       "      <td>4~8</td>\n",
       "      <td>less1</td>\n",
       "      <td>1</td>\n",
       "      <td>1</td>\n",
       "      <td>0</td>\n",
       "      <td>0</td>\n",
       "      <td>1</td>\n",
       "      <td>0</td>\n",
       "      <td>21</td>\n",
       "    </tr>\n",
       "    <tr>\n",
       "      <th>4</th>\n",
       "      <td>Home</td>\n",
       "      <td>Alone</td>\n",
       "      <td>Sunny</td>\n",
       "      <td>55</td>\n",
       "      <td>6PM</td>\n",
       "      <td>1d</td>\n",
       "      <td>Male</td>\n",
       "      <td>46</td>\n",
       "      <td>Single</td>\n",
       "      <td>0</td>\n",
       "      <td>...</td>\n",
       "      <td>1~3</td>\n",
       "      <td>1~3</td>\n",
       "      <td>never</td>\n",
       "      <td>1</td>\n",
       "      <td>1</td>\n",
       "      <td>0</td>\n",
       "      <td>0</td>\n",
       "      <td>1</td>\n",
       "      <td>0</td>\n",
       "      <td>46</td>\n",
       "    </tr>\n",
       "  </tbody>\n",
       "</table>\n",
       "<p>5 rows × 25 columns</p>\n",
       "</div>"
      ],
      "text/plain": [
       "  destination passanger weather  temperature time expiration  gender age  \\\n",
       "0        Home     Alone   Sunny           55  6PM         1d  Female  21   \n",
       "1        Work     Alone   Sunny           80  7AM         1d  Female  21   \n",
       "2        Home     Alone   Sunny           55  6PM         1d    Male  21   \n",
       "3        Work     Alone   Sunny           80  7AM         1d    Male  21   \n",
       "4        Home     Alone   Sunny           55  6PM         1d    Male  46   \n",
       "\n",
       "       maritalStatus  has_children  ... CarryAway RestaurantLessThan20  \\\n",
       "0  Unmarried partner             1  ...       1~3                  4~8   \n",
       "1  Unmarried partner             1  ...       1~3                  4~8   \n",
       "2             Single             0  ...       4~8                  4~8   \n",
       "3             Single             0  ...       4~8                  4~8   \n",
       "4             Single             0  ...       1~3                  1~3   \n",
       "\n",
       "  Restaurant20To50 toCoupon_GEQ5min toCoupon_GEQ15min toCoupon_GEQ25min  \\\n",
       "0              1~3                1                 1                 0   \n",
       "1              1~3                1                 1                 0   \n",
       "2            less1                1                 1                 0   \n",
       "3            less1                1                 1                 0   \n",
       "4            never                1                 1                 0   \n",
       "\n",
       "  direction_same direction_opp  Y  age_num  \n",
       "0              0             1  1       21  \n",
       "1              0             1  1       21  \n",
       "2              0             1  0       21  \n",
       "3              0             1  0       21  \n",
       "4              0             1  0       46  \n",
       "\n",
       "[5 rows x 25 columns]"
      ]
     },
     "execution_count": 64,
     "metadata": {},
     "output_type": "execute_result"
    }
   ],
   "source": [
    "nice_restaurants = data[data['coupon'] == 'Restaurant(20-50)']\n",
    "nice_restaurants = nice_restaurants.drop('coupon', axis=1)\n",
    "nice_restaurants.reset_index(drop=True, inplace=True)\n",
    "nice_restaurants.head()"
   ]
  },
  {
   "cell_type": "markdown",
   "metadata": {},
   "source": [
    "First, let's calculate the Chi-square tests to see if there is any signicant correlation between data features and coupon acceptance. Chi-square can be a good measure for this kind of data where most of the features are categorical."
   ]
  },
  {
   "cell_type": "code",
   "execution_count": 82,
   "metadata": {},
   "outputs": [
    {
     "name": "stdout",
     "output_type": "stream",
     "text": [
      "expiration                | chi2 = 68.02 | p-value = 0.0000\n",
      "Restaurant20To50          | chi2 = 55.08 | p-value = 0.0000\n",
      "time                      | chi2 = 49.74 | p-value = 0.0000\n",
      "passanger                 | chi2 = 25.72 | p-value = 0.0000\n",
      "CoffeeHouse               | chi2 = 25.63 | p-value = 0.0000\n",
      "weather                   | chi2 = 18.10 | p-value = 0.0001\n",
      "occupation                | chi2 = 53.73 | p-value = 0.0005\n",
      "destination               | chi2 = 9.71 | p-value = 0.0078\n",
      "income                    | chi2 = 19.55 | p-value = 0.0122\n",
      "maritalStatus             | chi2 = 9.30 | p-value = 0.0539\n",
      "education                 | chi2 = 9.74 | p-value = 0.0830\n",
      "age                       | chi2 = 12.34 | p-value = 0.0899\n",
      "RestaurantLessThan20      | chi2 = 7.80 | p-value = 0.0991\n",
      "Bar                       | chi2 = 6.35 | p-value = 0.1743\n",
      "gender                    | chi2 = 1.09 | p-value = 0.2956\n",
      "CarryAway                 | chi2 = 4.70 | p-value = 0.3193\n"
     ]
    }
   ],
   "source": [
    "from scipy.stats import chi2_contingency\n",
    "\n",
    "# Select categorical columns (excluding 'Y' and any encoded columns you may not want)\n",
    "categorical_cols = nice_restaurants.select_dtypes(include='object').columns\n",
    "\n",
    "# Store results\n",
    "chi2_results = []\n",
    "\n",
    "for col in categorical_cols:\n",
    "    contingency = pd.crosstab(nice_restaurants[col], nice_restaurants['Y'])\n",
    "    chi2, p, dof, _ = chi2_contingency(contingency)\n",
    "    chi2_results.append((col, chi2, p))\n",
    "\n",
    "# Sort by significance (lowest p-values first)\n",
    "chi2_results = sorted(chi2_results, key=lambda x: x[2])\n",
    "\n",
    "# Print top results\n",
    "for col, chi2, p in chi2_results:\n",
    "    print(f\"{col:<25} | chi2 = {chi2:.2f} | p-value = {p:.4f}\")"
   ]
  },
  {
   "cell_type": "markdown",
   "metadata": {},
   "source": [
    "Based on the chi-square analysis, several variables show strong statistical associations with Restaurant(20–50) coupon acceptance, offering clear direction for deeper exploration. Notably, **expiration time**, **time of day**, **passenger type**, **weather**, **CoffeeHouse frequency**, and **occupation** emerged as the most significant predictors. These variables likely influence the driver's decision-making process in meaningful ways, whether through behavioral habits, social context, or situational factors. Additionally, **income** and **destination** demonstrated moderate significance, suggesting they may compound effects when combined with other traits. We will focus on some these variables in our further analysis."
   ]
  },
  {
   "cell_type": "code",
   "execution_count": 66,
   "metadata": {},
   "outputs": [
    {
     "data": {
      "text/html": [
       "<div>\n",
       "<style scoped>\n",
       "    .dataframe tbody tr th:only-of-type {\n",
       "        vertical-align: middle;\n",
       "    }\n",
       "\n",
       "    .dataframe tbody tr th {\n",
       "        vertical-align: top;\n",
       "    }\n",
       "\n",
       "    .dataframe thead th {\n",
       "        text-align: right;\n",
       "    }\n",
       "</style>\n",
       "<table border=\"1\" class=\"dataframe\">\n",
       "  <thead>\n",
       "    <tr style=\"text-align: right;\">\n",
       "      <th>Y</th>\n",
       "      <th>0</th>\n",
       "      <th>1</th>\n",
       "    </tr>\n",
       "    <tr>\n",
       "      <th>passanger</th>\n",
       "      <th></th>\n",
       "      <th></th>\n",
       "    </tr>\n",
       "  </thead>\n",
       "  <tbody>\n",
       "    <tr>\n",
       "      <th>Alone</th>\n",
       "      <td>0.58</td>\n",
       "      <td>0.42</td>\n",
       "    </tr>\n",
       "    <tr>\n",
       "      <th>Friend(s)</th>\n",
       "      <td>0.54</td>\n",
       "      <td>0.46</td>\n",
       "    </tr>\n",
       "    <tr>\n",
       "      <th>Kid(s)</th>\n",
       "      <td>0.63</td>\n",
       "      <td>0.37</td>\n",
       "    </tr>\n",
       "    <tr>\n",
       "      <th>Partner</th>\n",
       "      <td>0.37</td>\n",
       "      <td>0.63</td>\n",
       "    </tr>\n",
       "  </tbody>\n",
       "</table>\n",
       "</div>"
      ],
      "text/plain": [
       "Y             0     1\n",
       "passanger            \n",
       "Alone      0.58  0.42\n",
       "Friend(s)  0.54  0.46\n",
       "Kid(s)     0.63  0.37\n",
       "Partner    0.37  0.63"
      ]
     },
     "execution_count": 66,
     "metadata": {},
     "output_type": "execute_result"
    }
   ],
   "source": [
    "# Passenger Type vs. Coupon Acceptance\n",
    "pd.crosstab(nice_restaurants['passanger'], nice_restaurants['Y'], normalize='index').round(2)"
   ]
  },
  {
   "cell_type": "code",
   "execution_count": 69,
   "metadata": {},
   "outputs": [
    {
     "data": {
      "text/html": [
       "<div>\n",
       "<style scoped>\n",
       "    .dataframe tbody tr th:only-of-type {\n",
       "        vertical-align: middle;\n",
       "    }\n",
       "\n",
       "    .dataframe tbody tr th {\n",
       "        vertical-align: top;\n",
       "    }\n",
       "\n",
       "    .dataframe thead th {\n",
       "        text-align: right;\n",
       "    }\n",
       "</style>\n",
       "<table border=\"1\" class=\"dataframe\">\n",
       "  <thead>\n",
       "    <tr style=\"text-align: right;\">\n",
       "      <th></th>\n",
       "      <th>Y</th>\n",
       "      <th>0</th>\n",
       "      <th>1</th>\n",
       "    </tr>\n",
       "    <tr>\n",
       "      <th>passanger</th>\n",
       "      <th>time</th>\n",
       "      <th></th>\n",
       "      <th></th>\n",
       "    </tr>\n",
       "  </thead>\n",
       "  <tbody>\n",
       "    <tr>\n",
       "      <th rowspan=\"3\" valign=\"top\">Alone</th>\n",
       "      <th>10PM</th>\n",
       "      <td>0.65</td>\n",
       "      <td>0.35</td>\n",
       "    </tr>\n",
       "    <tr>\n",
       "      <th>6PM</th>\n",
       "      <td>0.50</td>\n",
       "      <td>0.50</td>\n",
       "    </tr>\n",
       "    <tr>\n",
       "      <th>7AM</th>\n",
       "      <td>0.60</td>\n",
       "      <td>0.40</td>\n",
       "    </tr>\n",
       "    <tr>\n",
       "      <th rowspan=\"3\" valign=\"top\">Friend(s)</th>\n",
       "      <th>10PM</th>\n",
       "      <td>0.61</td>\n",
       "      <td>0.39</td>\n",
       "    </tr>\n",
       "    <tr>\n",
       "      <th>2PM</th>\n",
       "      <td>0.51</td>\n",
       "      <td>0.49</td>\n",
       "    </tr>\n",
       "    <tr>\n",
       "      <th>6PM</th>\n",
       "      <td>0.67</td>\n",
       "      <td>0.33</td>\n",
       "    </tr>\n",
       "    <tr>\n",
       "      <th rowspan=\"3\" valign=\"top\">Kid(s)</th>\n",
       "      <th>10PM</th>\n",
       "      <td>0.72</td>\n",
       "      <td>0.28</td>\n",
       "    </tr>\n",
       "    <tr>\n",
       "      <th>2PM</th>\n",
       "      <td>0.48</td>\n",
       "      <td>0.52</td>\n",
       "    </tr>\n",
       "    <tr>\n",
       "      <th>6PM</th>\n",
       "      <td>0.43</td>\n",
       "      <td>0.57</td>\n",
       "    </tr>\n",
       "    <tr>\n",
       "      <th rowspan=\"3\" valign=\"top\">Partner</th>\n",
       "      <th>10AM</th>\n",
       "      <td>0.38</td>\n",
       "      <td>0.62</td>\n",
       "    </tr>\n",
       "    <tr>\n",
       "      <th>10PM</th>\n",
       "      <td>1.00</td>\n",
       "      <td>0.00</td>\n",
       "    </tr>\n",
       "    <tr>\n",
       "      <th>2PM</th>\n",
       "      <td>0.20</td>\n",
       "      <td>0.80</td>\n",
       "    </tr>\n",
       "  </tbody>\n",
       "</table>\n",
       "</div>"
      ],
      "text/plain": [
       "Y                  0     1\n",
       "passanger time            \n",
       "Alone     10PM  0.65  0.35\n",
       "          6PM   0.50  0.50\n",
       "          7AM   0.60  0.40\n",
       "Friend(s) 10PM  0.61  0.39\n",
       "          2PM   0.51  0.49\n",
       "          6PM   0.67  0.33\n",
       "Kid(s)    10PM  0.72  0.28\n",
       "          2PM   0.48  0.52\n",
       "          6PM   0.43  0.57\n",
       "Partner   10AM  0.38  0.62\n",
       "          10PM  1.00  0.00\n",
       "          2PM   0.20  0.80"
      ]
     },
     "execution_count": 69,
     "metadata": {},
     "output_type": "execute_result"
    }
   ],
   "source": [
    "# Passenger + Time of Day\n",
    "pd.crosstab([nice_restaurants['passanger'], nice_restaurants['time']], nice_restaurants['Y'], normalize='index').round(2)"
   ]
  },
  {
   "cell_type": "code",
   "execution_count": 73,
   "metadata": {},
   "outputs": [
    {
     "data": {
      "text/html": [
       "<div>\n",
       "<style scoped>\n",
       "    .dataframe tbody tr th:only-of-type {\n",
       "        vertical-align: middle;\n",
       "    }\n",
       "\n",
       "    .dataframe tbody tr th {\n",
       "        vertical-align: top;\n",
       "    }\n",
       "\n",
       "    .dataframe thead th {\n",
       "        text-align: right;\n",
       "    }\n",
       "</style>\n",
       "<table border=\"1\" class=\"dataframe\">\n",
       "  <thead>\n",
       "    <tr style=\"text-align: right;\">\n",
       "      <th>Y</th>\n",
       "      <th>0</th>\n",
       "      <th>1</th>\n",
       "    </tr>\n",
       "    <tr>\n",
       "      <th>destination</th>\n",
       "      <th></th>\n",
       "      <th></th>\n",
       "    </tr>\n",
       "  </thead>\n",
       "  <tbody>\n",
       "    <tr>\n",
       "      <th>Home</th>\n",
       "      <td>0.57</td>\n",
       "      <td>0.43</td>\n",
       "    </tr>\n",
       "    <tr>\n",
       "      <th>No Urgent Place</th>\n",
       "      <td>0.50</td>\n",
       "      <td>0.50</td>\n",
       "    </tr>\n",
       "    <tr>\n",
       "      <th>Work</th>\n",
       "      <td>0.60</td>\n",
       "      <td>0.40</td>\n",
       "    </tr>\n",
       "  </tbody>\n",
       "</table>\n",
       "</div>"
      ],
      "text/plain": [
       "Y                   0     1\n",
       "destination                \n",
       "Home             0.57  0.43\n",
       "No Urgent Place  0.50  0.50\n",
       "Work             0.60  0.40"
      ]
     },
     "execution_count": 73,
     "metadata": {},
     "output_type": "execute_result"
    }
   ],
   "source": [
    "#  Passenger + Destination\n",
    "pd.crosstab(nice_restaurants['destination'], nice_restaurants['Y'], normalize='index').round(2)"
   ]
  },
  {
   "cell_type": "code",
   "execution_count": 75,
   "metadata": {},
   "outputs": [
    {
     "data": {
      "text/html": [
       "<div>\n",
       "<style scoped>\n",
       "    .dataframe tbody tr th:only-of-type {\n",
       "        vertical-align: middle;\n",
       "    }\n",
       "\n",
       "    .dataframe tbody tr th {\n",
       "        vertical-align: top;\n",
       "    }\n",
       "\n",
       "    .dataframe thead th {\n",
       "        text-align: right;\n",
       "    }\n",
       "</style>\n",
       "<table border=\"1\" class=\"dataframe\">\n",
       "  <thead>\n",
       "    <tr style=\"text-align: right;\">\n",
       "      <th></th>\n",
       "      <th>Y</th>\n",
       "      <th>0</th>\n",
       "      <th>1</th>\n",
       "    </tr>\n",
       "    <tr>\n",
       "      <th>passanger</th>\n",
       "      <th>destination</th>\n",
       "      <th></th>\n",
       "      <th></th>\n",
       "    </tr>\n",
       "  </thead>\n",
       "  <tbody>\n",
       "    <tr>\n",
       "      <th rowspan=\"3\" valign=\"top\">Alone</th>\n",
       "      <th>Home</th>\n",
       "      <td>0.56</td>\n",
       "      <td>0.44</td>\n",
       "    </tr>\n",
       "    <tr>\n",
       "      <th>No Urgent Place</th>\n",
       "      <td>0.47</td>\n",
       "      <td>0.53</td>\n",
       "    </tr>\n",
       "    <tr>\n",
       "      <th>Work</th>\n",
       "      <td>0.60</td>\n",
       "      <td>0.40</td>\n",
       "    </tr>\n",
       "    <tr>\n",
       "      <th>Friend(s)</th>\n",
       "      <th>No Urgent Place</th>\n",
       "      <td>0.54</td>\n",
       "      <td>0.46</td>\n",
       "    </tr>\n",
       "    <tr>\n",
       "      <th rowspan=\"2\" valign=\"top\">Kid(s)</th>\n",
       "      <th>Home</th>\n",
       "      <td>0.61</td>\n",
       "      <td>0.39</td>\n",
       "    </tr>\n",
       "    <tr>\n",
       "      <th>No Urgent Place</th>\n",
       "      <td>0.64</td>\n",
       "      <td>0.36</td>\n",
       "    </tr>\n",
       "    <tr>\n",
       "      <th>Partner</th>\n",
       "      <th>No Urgent Place</th>\n",
       "      <td>0.37</td>\n",
       "      <td>0.63</td>\n",
       "    </tr>\n",
       "  </tbody>\n",
       "</table>\n",
       "</div>"
      ],
      "text/plain": [
       "Y                             0     1\n",
       "passanger destination                \n",
       "Alone     Home             0.56  0.44\n",
       "          No Urgent Place  0.47  0.53\n",
       "          Work             0.60  0.40\n",
       "Friend(s) No Urgent Place  0.54  0.46\n",
       "Kid(s)    Home             0.61  0.39\n",
       "          No Urgent Place  0.64  0.36\n",
       "Partner   No Urgent Place  0.37  0.63"
      ]
     },
     "execution_count": 75,
     "metadata": {},
     "output_type": "execute_result"
    }
   ],
   "source": [
    "#  Passenger + Destination\n",
    "pd.crosstab([nice_restaurants['passanger'], \n",
    "             nice_restaurants['destination']], nice_restaurants['Y'], normalize='index').round(2)"
   ]
  },
  {
   "cell_type": "code",
   "execution_count": 76,
   "metadata": {
    "id": "QEsBkvIN_qRL"
   },
   "outputs": [
    {
     "data": {
      "text/html": [
       "<div>\n",
       "<style scoped>\n",
       "    .dataframe tbody tr th:only-of-type {\n",
       "        vertical-align: middle;\n",
       "    }\n",
       "\n",
       "    .dataframe tbody tr th {\n",
       "        vertical-align: top;\n",
       "    }\n",
       "\n",
       "    .dataframe thead th {\n",
       "        text-align: right;\n",
       "    }\n",
       "</style>\n",
       "<table border=\"1\" class=\"dataframe\">\n",
       "  <thead>\n",
       "    <tr style=\"text-align: right;\">\n",
       "      <th>Y</th>\n",
       "      <th>0</th>\n",
       "      <th>1</th>\n",
       "    </tr>\n",
       "    <tr>\n",
       "      <th>income</th>\n",
       "      <th></th>\n",
       "      <th></th>\n",
       "    </tr>\n",
       "  </thead>\n",
       "  <tbody>\n",
       "    <tr>\n",
       "      <th>$100000 or More</th>\n",
       "      <td>0.51</td>\n",
       "      <td>0.49</td>\n",
       "    </tr>\n",
       "    <tr>\n",
       "      <th>$12500 - $24999</th>\n",
       "      <td>0.62</td>\n",
       "      <td>0.38</td>\n",
       "    </tr>\n",
       "    <tr>\n",
       "      <th>$25000 - $37499</th>\n",
       "      <td>0.49</td>\n",
       "      <td>0.51</td>\n",
       "    </tr>\n",
       "    <tr>\n",
       "      <th>$37500 - $49999</th>\n",
       "      <td>0.56</td>\n",
       "      <td>0.44</td>\n",
       "    </tr>\n",
       "    <tr>\n",
       "      <th>$50000 - $62499</th>\n",
       "      <td>0.50</td>\n",
       "      <td>0.50</td>\n",
       "    </tr>\n",
       "    <tr>\n",
       "      <th>$62500 - $74999</th>\n",
       "      <td>0.64</td>\n",
       "      <td>0.36</td>\n",
       "    </tr>\n",
       "    <tr>\n",
       "      <th>$75000 - $87499</th>\n",
       "      <td>0.55</td>\n",
       "      <td>0.45</td>\n",
       "    </tr>\n",
       "    <tr>\n",
       "      <th>$87500 - $99999</th>\n",
       "      <td>0.62</td>\n",
       "      <td>0.38</td>\n",
       "    </tr>\n",
       "    <tr>\n",
       "      <th>Less than $12500</th>\n",
       "      <td>0.64</td>\n",
       "      <td>0.36</td>\n",
       "    </tr>\n",
       "  </tbody>\n",
       "</table>\n",
       "</div>"
      ],
      "text/plain": [
       "Y                    0     1\n",
       "income                      \n",
       "$100000 or More   0.51  0.49\n",
       "$12500 - $24999   0.62  0.38\n",
       "$25000 - $37499   0.49  0.51\n",
       "$37500 - $49999   0.56  0.44\n",
       "$50000 - $62499   0.50  0.50\n",
       "$62500 - $74999   0.64  0.36\n",
       "$75000 - $87499   0.55  0.45\n",
       "$87500 - $99999   0.62  0.38\n",
       "Less than $12500  0.64  0.36"
      ]
     },
     "execution_count": 76,
     "metadata": {},
     "output_type": "execute_result"
    }
   ],
   "source": [
    "# Income vs Coupon Acceptance \n",
    "pd.crosstab(nice_restaurants['income'], nice_restaurants['Y'], normalize='index').round(2)"
   ]
  },
  {
   "cell_type": "code",
   "execution_count": 77,
   "metadata": {},
   "outputs": [
    {
     "data": {
      "text/html": [
       "<div>\n",
       "<style scoped>\n",
       "    .dataframe tbody tr th:only-of-type {\n",
       "        vertical-align: middle;\n",
       "    }\n",
       "\n",
       "    .dataframe tbody tr th {\n",
       "        vertical-align: top;\n",
       "    }\n",
       "\n",
       "    .dataframe thead th {\n",
       "        text-align: right;\n",
       "    }\n",
       "</style>\n",
       "<table border=\"1\" class=\"dataframe\">\n",
       "  <thead>\n",
       "    <tr style=\"text-align: right;\">\n",
       "      <th>Y</th>\n",
       "      <th>0</th>\n",
       "      <th>1</th>\n",
       "    </tr>\n",
       "    <tr>\n",
       "      <th>Restaurant20To50</th>\n",
       "      <th></th>\n",
       "      <th></th>\n",
       "    </tr>\n",
       "  </thead>\n",
       "  <tbody>\n",
       "    <tr>\n",
       "      <th>1~3</th>\n",
       "      <td>0.47</td>\n",
       "      <td>0.53</td>\n",
       "    </tr>\n",
       "    <tr>\n",
       "      <th>4~8</th>\n",
       "      <td>0.37</td>\n",
       "      <td>0.63</td>\n",
       "    </tr>\n",
       "    <tr>\n",
       "      <th>gt8</th>\n",
       "      <td>0.31</td>\n",
       "      <td>0.69</td>\n",
       "    </tr>\n",
       "    <tr>\n",
       "      <th>less1</th>\n",
       "      <td>0.59</td>\n",
       "      <td>0.41</td>\n",
       "    </tr>\n",
       "    <tr>\n",
       "      <th>never</th>\n",
       "      <td>0.70</td>\n",
       "      <td>0.30</td>\n",
       "    </tr>\n",
       "  </tbody>\n",
       "</table>\n",
       "</div>"
      ],
      "text/plain": [
       "Y                    0     1\n",
       "Restaurant20To50            \n",
       "1~3               0.47  0.53\n",
       "4~8               0.37  0.63\n",
       "gt8               0.31  0.69\n",
       "less1             0.59  0.41\n",
       "never             0.70  0.30"
      ]
     },
     "execution_count": 77,
     "metadata": {},
     "output_type": "execute_result"
    }
   ],
   "source": [
    "# Cross-Tab: Restaurant20To50 vs. Coupon Acceptance\n",
    "pd.crosstab(nice_restaurants['Restaurant20To50'], nice_restaurants['Y'], normalize='index').round(2)"
   ]
  },
  {
   "cell_type": "markdown",
   "metadata": {},
   "source": [
    "Based on the insights from the cross-tab we'll explore the percentage of a few specific groups and their propensity to accept the coupons."
   ]
  },
  {
   "cell_type": "markdown",
   "metadata": {},
   "source": [
    "#### Segment 1: Drivers with Partner as a passenger and time = '2PM'"
   ]
  },
  {
   "cell_type": "code",
   "execution_count": 85,
   "metadata": {
    "id": "fTC2WGE3_qRL"
   },
   "outputs": [
    {
     "name": "stdout",
     "output_type": "stream",
     "text": [
      "Acceptance rate (Partner @ 2PM): 80.00%\n",
      "Acceptance rate (All Others): 43.49%\n"
     ]
    }
   ],
   "source": [
    "# Filter the target group: partner passenger and time = '2PM'\n",
    "target_group = nice_restaurants[\n",
    "    (nice_restaurants['passanger'] == 'Partner') &\n",
    "    (nice_restaurants['time'] == '2PM')\n",
    "]\n",
    "\n",
    "# All other drivers\n",
    "other_group = nice_restaurants[~(\n",
    "    (nice_restaurants['passanger'] == 'Partner') &\n",
    "    (nice_restaurants['time'] == '2PM')\n",
    ")]\n",
    "\n",
    "# calculate acceptance rates\n",
    "target_accept = target_group['Y'].value_counts(normalize=True).get(1, 0)\n",
    "other_accept = other_group['Y'].value_counts(normalize=True).get(1, 0)\n",
    "\n",
    "print(f\"Acceptance rate (Partner @ 2PM): {target_accept:.2%}\")\n",
    "print(f\"Acceptance rate (All Others): {other_accept:.2%}\")\n"
   ]
  },
  {
   "cell_type": "code",
   "execution_count": 88,
   "metadata": {},
   "outputs": [
    {
     "data": {
      "image/png": "[encoded data removed]",
      "text/plain": [
       "<Figure size 640x480 with 1 Axes>"
      ]
     },
     "metadata": {},
     "output_type": "display_data"
    }
   ],
   "source": [
    "# visualize the comparison\n",
    "\n",
    "labels = ['Partner @ 2PM', 'All Others']\n",
    "rates = [target_accept, other_accept]\n",
    "colors = ['#1F77B4', '#AED6F1'] \n",
    "\n",
    "plt.bar(labels, rates, color=colors)\n",
    "plt.title('Coupon Acceptance: Partner Passenger at 2PM vs Others')\n",
    "plt.ylabel('Acceptance Rate')\n",
    "plt.ylim(0, 1)\n",
    "plt.gca().yaxis.set_major_formatter(plt.FuncFormatter(lambda y, _: f'{y:.0%}'))\n",
    "plt.grid(axis='y', linestyle='--', alpha=0.5)\n",
    "plt.tight_layout()\n",
    "plt.show()"
   ]
  },
  {
   "cell_type": "markdown",
   "metadata": {},
   "source": [
    "#### Segment 2: Drivers who frequent Restaurant(20–50) establishments more than 3 times per month and received a coupon that expires in 1 day"
   ]
  },
  {
   "cell_type": "code",
   "execution_count": 94,
   "metadata": {},
   "outputs": [
    {
     "name": "stdout",
     "output_type": "stream",
     "text": [
      "Acceptance rate (Frequent diners w/ 1-day expiration): 74.68%\n",
      "Acceptance rate (All Others): 42.39%\n"
     ]
    }
   ],
   "source": [
    "# Define frequent diners\n",
    "frequent_diners = ['4~8', 'gt8']\n",
    "\n",
    "target_group = nice_restaurants[\n",
    "    (nice_restaurants['Restaurant20To50'].isin(frequent_diners)) &\n",
    "    (nice_restaurants['expiration'] == '1d')\n",
    "]\n",
    "\n",
    "other_group = nice_restaurants[~(\n",
    "    (nice_restaurants['Restaurant20To50'].isin(frequent_diners)) &\n",
    "    (nice_restaurants['expiration'] == '1d')\n",
    ")]\n",
    "\n",
    "\n",
    "# calculate acceptance rates\n",
    "\n",
    "target_accept = target_group['Y'].value_counts(normalize=True).get(1, 0)\n",
    "other_accept = other_group['Y'].value_counts(normalize=True).get(1, 0)\n",
    "\n",
    "print(f\"Acceptance rate (Frequent diners w/ 1-day expiration): {target_accept:.2%}\")\n",
    "print(f\"Acceptance rate (All Others): {other_accept:.2%}\")"
   ]
  },
  {
   "cell_type": "code",
   "execution_count": 95,
   "metadata": {},
   "outputs": [
    {
     "data": {
      "image/png": "[encoded data removed]",
      "text/plain": [
       "<Figure size 640x480 with 1 Axes>"
      ]
     },
     "metadata": {},
     "output_type": "display_data"
    }
   ],
   "source": [
    "# visualize the data\n",
    "\n",
    "labels = ['Frequent Diners + 1-Day Expiration', 'All Others']\n",
    "rates = [target_accept, other_accept]\n",
    "colors =  ['#1F77B4', '#AED6F1'] \n",
    "\n",
    "plt.bar(labels, rates, color=colors)\n",
    "plt.title('Coupon Acceptance: Expiration Impact on Frequent Restaurant(20–50) Diners')\n",
    "plt.ylabel('Acceptance Rate')\n",
    "plt.ylim(0, 1)\n",
    "plt.gca().yaxis.set_major_formatter(plt.FuncFormatter(lambda y, _: f'{y:.0%}'))\n",
    "plt.grid(axis='y', linestyle='--', alpha=0.5)\n",
    "plt.tight_layout()\n",
    "plt.show()"
   ]
  },
  {
   "cell_type": "markdown",
   "metadata": {},
   "source": [
    "#### Segment 3: Drivers working in Management roles and earning over $100k"
   ]
  },
  {
   "cell_type": "code",
   "execution_count": 104,
   "metadata": {},
   "outputs": [
    {
     "name": "stdout",
     "output_type": "stream",
     "text": [
      "Acceptance rate (Management, income > $100K): 69.23%\n",
      "Acceptance rate (All Others): 43.88%\n"
     ]
    }
   ],
   "source": [
    "# Define high-income brackets\n",
    "high_income = [       \n",
    "    '$100000 or More'\n",
    "]\n",
    "\n",
    "# Filter target group\n",
    "target_group = nice_restaurants[\n",
    "    (nice_restaurants['occupation'] == 'Management') &\n",
    "    (nice_restaurants['income'].isin(high_income))\n",
    "]\n",
    "\n",
    "# All others\n",
    "other_group = nice_restaurants[~(\n",
    "    (nice_restaurants['occupation'] == 'Management') &\n",
    "    (nice_restaurants['income'].isin(high_income))\n",
    ")]\n",
    "\n",
    "# calculate acceptance rates\n",
    "target_accept = target_group['Y'].value_counts(normalize=True).get(1, 0)\n",
    "other_accept = other_group['Y'].value_counts(normalize=True).get(1, 0)\n",
    "\n",
    "print(f\"Acceptance rate (Management, income > $100K): {target_accept:.2%}\")\n",
    "print(f\"Acceptance rate (All Others): {other_accept:.2%}\")"
   ]
  },
  {
   "cell_type": "code",
   "execution_count": 103,
   "metadata": {},
   "outputs": [
    {
     "data": {
      "image/png": "[encoded data removed]",
      "text/plain": [
       "<Figure size 640x480 with 1 Axes>"
      ]
     },
     "metadata": {},
     "output_type": "display_data"
    }
   ],
   "source": [
    "# visualize the data\n",
    "\n",
    "labels = ['Management ≥$100K', 'All Others']\n",
    "rates = [target_accept, other_accept]\n",
    "colors = ['#1F77B4', '#AED6F1'] \n",
    "\n",
    "plt.bar(labels, rates, color=colors)\n",
    "plt.title('Coupon Acceptance: High-Income Management Professionals')\n",
    "plt.ylabel('Acceptance Rate')\n",
    "plt.ylim(0, 1)\n",
    "plt.gca().yaxis.set_major_formatter(plt.FuncFormatter(lambda y, _: f'{y:.0%}'))\n",
    "plt.grid(axis='y', linestyle='--', alpha=0.5)\n",
    "plt.tight_layout()\n",
    "plt.show()"
   ]
  },
  {
   "cell_type": "markdown",
   "metadata": {
    "id": "RrqUWn7d_qRL"
   },
   "source": [
    "<h2 style=\"color:green;\">Key Observations</h2>\n",
    "\n",
    "1) **Social Context Matters**\n",
    "    - Drivers accompanied by a partner at 2PM had an exceptionally high acceptance rate of 80%, compared to 43.5% for all others.\n",
    "    - This suggests that midday outings with significant others - possibly lunch dates or pre-planned meals - are strong motivators for using upscale restaurant coupons.\n",
    "2) **Time Sensitivity Increases Engagement**\n",
    "    - Among drivers who frequent Restaurant(20–50) establishments and received coupons with a 1-day expiration, the acceptance rate jumped to 74.7%, versus 42.4% for the general group.\n",
    "    - This highlights the appeal of a flexible redemption window for regular diners - urgency balanced with planning opportunity enhances likelihood of acceptance.\n",
    "3) **Professional & Financial Indicators Play a Role**\n",
    "    - Drivers in Management roles earning more than $100K showed a notably higher acceptance rate of 69.2%, compared to 43.9% for all others.\n",
    "    - This points to a segment that may value upscale dining as part of routine lifestyle — possibly for socializing, client meetings, or personal reward.\n",
    "\n",
    "**Hypothesis**\n",
    "\n",
    "Drivers most likely to accept Restaurant(20–50) coupons are:\n",
    "- Socially engaged (e.g. accompanied by partners)\n",
    "- Financially flexible (e.g. earning above $100K, working in managerial roles)\n",
    "- Lifestyle-oriented planners (e.g. frequent diners who respond well to coupons with longer expiration)\n",
    "These individuals likely view restaurant visits not as spontaneous decisions, but as part of their weekly rhythm — influenced by time of day, companionship, and opportunity to plan.\n"
   ]
  },
  {
   "cell_type": "markdown",
   "metadata": {
    "id": "_oykf8YP_qRL"
   },
   "source": [
    "<h2 style=\"color:green;\">Next Steps and Recommendations</h2>\n",
    "\n",
    "### Immediate Actions\n",
    "- **Feature Prioritization for Campaign Targeting** - \n",
    "Use top predictors - passenger, time, expiration, and occupation - for smarter delivery rules.\n",
    "- **Behavior-Informed Coupon Scheduling** - \n",
    "Extend expiration windows for upscale coupons (e.g. 1 day instead of 2 hours) to boost engagement from frequent diners.\n",
    "- **Persona Development for Strategic Outreach** - \n",
    "Build data-driven personas like:\n",
    "    - “The Social Couple”: Partner passengers during lunch hours\n",
    "    - “The Business Planner”: High-income professionals in management roles.\n",
    "\n",
    "### Suggested Further Analysis\n",
    "- **Machine Learning Classification** - \n",
    "Test models like Logistic Regression, Random Forest, or XGBoost using Y as target to validate key predictors.\n",
    "- **Interaction Effects & Feature Engineering** - \n",
    "Create new features (e.g. partner_2pm, occupation_expiration_window) to capture compound behavior traits.\n",
    "- **Clustering for Behavioral Segmentation** -\n",
    "Apply unsupervised methods (e.g. K-Means) to reveal latent driver groups and distinguish lifestyles.\n",
    "- **Lift Analysis / A/B Simulations** - \n",
    "Simulate campaign targeting with high-likelihood segments to estimate potential gains in coupon acceptance.\n"
   ]
  },
  {
   "cell_type": "markdown",
   "metadata": {},
   "source": [
    "---"
   ]
  }
 ],
 "metadata": {
  "colab": {
   "provenance": []
  },
  "kernelspec": {
   "display_name": "Python 3 (ipykernel)",
   "language": "python",
   "name": "python3"
  },
  "language_info": {
   "codemirror_mode": {
    "name": "ipython",
    "version": 3
   },
   "file_extension": ".py",
   "mimetype": "text/x-python",
   "name": "python",
   "nbconvert_exporter": "python",
   "pygments_lexer": "ipython3",
   "version": "3.11.5"
  }
 },
 "nbformat": 4,
 "nbformat_minor": 1
}
